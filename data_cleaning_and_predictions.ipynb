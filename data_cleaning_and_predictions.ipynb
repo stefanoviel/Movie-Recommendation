{
 "cells": [
  {
   "cell_type": "markdown",
   "id": "cca60d50",
   "metadata": {},
   "source": [
    "## Extracting 5 stars reviews\n"
   ]
  },
  {
   "cell_type": "code",
   "execution_count": 1,
   "id": "5e06201c",
   "metadata": {},
   "outputs": [],
   "source": [
    "import pandas as pd\n",
    "import matplotlib.pyplot as plt"
   ]
  },
  {
   "cell_type": "code",
   "execution_count": 2,
   "id": "42a86b44",
   "metadata": {},
   "outputs": [],
   "source": [
    "movies = pd.read_csv('data/movies.csv')\n",
    "ratings = pd.read_csv('data/ratings.csv')   "
   ]
  },
  {
   "cell_type": "code",
   "execution_count": 3,
   "id": "200954e1",
   "metadata": {},
   "outputs": [
    {
     "data": {
      "text/html": [
       "<div>\n",
       "<style scoped>\n",
       "    .dataframe tbody tr th:only-of-type {\n",
       "        vertical-align: middle;\n",
       "    }\n",
       "\n",
       "    .dataframe tbody tr th {\n",
       "        vertical-align: top;\n",
       "    }\n",
       "\n",
       "    .dataframe thead th {\n",
       "        text-align: right;\n",
       "    }\n",
       "</style>\n",
       "<table border=\"1\" class=\"dataframe\">\n",
       "  <thead>\n",
       "    <tr style=\"text-align: right;\">\n",
       "      <th></th>\n",
       "      <th>movieId</th>\n",
       "      <th>title</th>\n",
       "      <th>genres</th>\n",
       "      <th>movie_id_reset</th>\n",
       "    </tr>\n",
       "  </thead>\n",
       "  <tbody>\n",
       "    <tr>\n",
       "      <th>0</th>\n",
       "      <td>1</td>\n",
       "      <td>Toy Story (1995)</td>\n",
       "      <td>Adventure|Animation|Children|Comedy|Fantasy</td>\n",
       "      <td>1</td>\n",
       "    </tr>\n",
       "    <tr>\n",
       "      <th>1</th>\n",
       "      <td>2</td>\n",
       "      <td>Jumanji (1995)</td>\n",
       "      <td>Adventure|Children|Fantasy</td>\n",
       "      <td>2</td>\n",
       "    </tr>\n",
       "    <tr>\n",
       "      <th>2</th>\n",
       "      <td>3</td>\n",
       "      <td>Grumpier Old Men (1995)</td>\n",
       "      <td>Comedy|Romance</td>\n",
       "      <td>3</td>\n",
       "    </tr>\n",
       "    <tr>\n",
       "      <th>3</th>\n",
       "      <td>4</td>\n",
       "      <td>Waiting to Exhale (1995)</td>\n",
       "      <td>Comedy|Drama|Romance</td>\n",
       "      <td>4</td>\n",
       "    </tr>\n",
       "    <tr>\n",
       "      <th>4</th>\n",
       "      <td>5</td>\n",
       "      <td>Father of the Bride Part II (1995)</td>\n",
       "      <td>Comedy</td>\n",
       "      <td>5</td>\n",
       "    </tr>\n",
       "  </tbody>\n",
       "</table>\n",
       "</div>"
      ],
      "text/plain": [
       "   movieId                               title  \\\n",
       "0        1                    Toy Story (1995)   \n",
       "1        2                      Jumanji (1995)   \n",
       "2        3             Grumpier Old Men (1995)   \n",
       "3        4            Waiting to Exhale (1995)   \n",
       "4        5  Father of the Bride Part II (1995)   \n",
       "\n",
       "                                        genres  movie_id_reset  \n",
       "0  Adventure|Animation|Children|Comedy|Fantasy               1  \n",
       "1                   Adventure|Children|Fantasy               2  \n",
       "2                               Comedy|Romance               3  \n",
       "3                         Comedy|Drama|Romance               4  \n",
       "4                                       Comedy               5  "
      ]
     },
     "execution_count": 3,
     "metadata": {},
     "output_type": "execute_result"
    }
   ],
   "source": [
    "movies['movie_id_reset'] = movies.index + 1\n",
    "movies.head()"
   ]
  },
  {
   "cell_type": "code",
   "execution_count": 4,
   "id": "5d966d76",
   "metadata": {},
   "outputs": [
    {
     "data": {
      "text/html": [
       "<div>\n",
       "<style scoped>\n",
       "    .dataframe tbody tr th:only-of-type {\n",
       "        vertical-align: middle;\n",
       "    }\n",
       "\n",
       "    .dataframe tbody tr th {\n",
       "        vertical-align: top;\n",
       "    }\n",
       "\n",
       "    .dataframe thead th {\n",
       "        text-align: right;\n",
       "    }\n",
       "</style>\n",
       "<table border=\"1\" class=\"dataframe\">\n",
       "  <thead>\n",
       "    <tr style=\"text-align: right;\">\n",
       "      <th></th>\n",
       "      <th>userId</th>\n",
       "      <th>movieId</th>\n",
       "      <th>rating</th>\n",
       "      <th>timestamp</th>\n",
       "      <th>movie_id_reset</th>\n",
       "    </tr>\n",
       "  </thead>\n",
       "  <tbody>\n",
       "    <tr>\n",
       "      <th>0</th>\n",
       "      <td>1</td>\n",
       "      <td>17</td>\n",
       "      <td>4.0</td>\n",
       "      <td>944249077</td>\n",
       "      <td>17</td>\n",
       "    </tr>\n",
       "    <tr>\n",
       "      <th>1</th>\n",
       "      <td>1</td>\n",
       "      <td>25</td>\n",
       "      <td>1.0</td>\n",
       "      <td>944250228</td>\n",
       "      <td>25</td>\n",
       "    </tr>\n",
       "    <tr>\n",
       "      <th>2</th>\n",
       "      <td>1</td>\n",
       "      <td>29</td>\n",
       "      <td>2.0</td>\n",
       "      <td>943230976</td>\n",
       "      <td>29</td>\n",
       "    </tr>\n",
       "    <tr>\n",
       "      <th>3</th>\n",
       "      <td>1</td>\n",
       "      <td>30</td>\n",
       "      <td>5.0</td>\n",
       "      <td>944249077</td>\n",
       "      <td>30</td>\n",
       "    </tr>\n",
       "    <tr>\n",
       "      <th>4</th>\n",
       "      <td>1</td>\n",
       "      <td>32</td>\n",
       "      <td>5.0</td>\n",
       "      <td>943228858</td>\n",
       "      <td>32</td>\n",
       "    </tr>\n",
       "    <tr>\n",
       "      <th>...</th>\n",
       "      <td>...</td>\n",
       "      <td>...</td>\n",
       "      <td>...</td>\n",
       "      <td>...</td>\n",
       "      <td>...</td>\n",
       "    </tr>\n",
       "    <tr>\n",
       "      <th>32000199</th>\n",
       "      <td>200948</td>\n",
       "      <td>79702</td>\n",
       "      <td>4.5</td>\n",
       "      <td>1294412589</td>\n",
       "      <td>15059</td>\n",
       "    </tr>\n",
       "    <tr>\n",
       "      <th>32000200</th>\n",
       "      <td>200948</td>\n",
       "      <td>79796</td>\n",
       "      <td>1.0</td>\n",
       "      <td>1287216292</td>\n",
       "      <td>15078</td>\n",
       "    </tr>\n",
       "    <tr>\n",
       "      <th>32000201</th>\n",
       "      <td>200948</td>\n",
       "      <td>80350</td>\n",
       "      <td>0.5</td>\n",
       "      <td>1294412671</td>\n",
       "      <td>15213</td>\n",
       "    </tr>\n",
       "    <tr>\n",
       "      <th>32000202</th>\n",
       "      <td>200948</td>\n",
       "      <td>80463</td>\n",
       "      <td>3.5</td>\n",
       "      <td>1350423800</td>\n",
       "      <td>15241</td>\n",
       "    </tr>\n",
       "    <tr>\n",
       "      <th>32000203</th>\n",
       "      <td>200948</td>\n",
       "      <td>87304</td>\n",
       "      <td>4.5</td>\n",
       "      <td>1350423523</td>\n",
       "      <td>16547</td>\n",
       "    </tr>\n",
       "  </tbody>\n",
       "</table>\n",
       "<p>32000204 rows × 5 columns</p>\n",
       "</div>"
      ],
      "text/plain": [
       "          userId  movieId  rating   timestamp  movie_id_reset\n",
       "0              1       17     4.0   944249077              17\n",
       "1              1       25     1.0   944250228              25\n",
       "2              1       29     2.0   943230976              29\n",
       "3              1       30     5.0   944249077              30\n",
       "4              1       32     5.0   943228858              32\n",
       "...          ...      ...     ...         ...             ...\n",
       "32000199  200948    79702     4.5  1294412589           15059\n",
       "32000200  200948    79796     1.0  1287216292           15078\n",
       "32000201  200948    80350     0.5  1294412671           15213\n",
       "32000202  200948    80463     3.5  1350423800           15241\n",
       "32000203  200948    87304     4.5  1350423523           16547\n",
       "\n",
       "[32000204 rows x 5 columns]"
      ]
     },
     "execution_count": 4,
     "metadata": {},
     "output_type": "execute_result"
    }
   ],
   "source": [
    "# substitute movieid with movie id reset in ratings\n",
    "movieid_to_reset = dict(zip(movies['movieId'], movies['movie_id_reset']))\n",
    "ratings['movie_id_reset'] = ratings['movieId'].map(movieid_to_reset)\n",
    "ratings"
   ]
  },
  {
   "cell_type": "code",
   "execution_count": 5,
   "id": "ba5011e3",
   "metadata": {},
   "outputs": [
    {
     "data": {
      "text/plain": [
       "<Axes: >"
      ]
     },
     "execution_count": 5,
     "metadata": {},
     "output_type": "execute_result"
    },
    {
     "data": {
      "image/png": "[encoded data removed]",
      "text/plain": [
       "<Figure size 640x480 with 1 Axes>"
      ]
     },
     "metadata": {},
     "output_type": "display_data"
    }
   ],
   "source": [
    "ratings.rating.hist(bins=10)\n",
    "# float((ratings.rating == 5).sum() / len(ratings) ). # 14%"
   ]
  },
  {
   "cell_type": "code",
   "execution_count": 6,
   "id": "4344ca1b",
   "metadata": {},
   "outputs": [
    {
     "data": {
      "text/plain": [
       "4596577"
      ]
     },
     "execution_count": 6,
     "metadata": {},
     "output_type": "execute_result"
    }
   ],
   "source": [
    "ratings5s = ratings[ratings.rating == 5]\n",
    "len(ratings5s)"
   ]
  },
  {
   "cell_type": "code",
   "execution_count": 7,
   "id": "ffe80e6c",
   "metadata": {},
   "outputs": [
    {
     "data": {
      "text/plain": [
       "Text(0, 0.5, 'Number of users')"
      ]
     },
     "execution_count": 7,
     "metadata": {},
     "output_type": "execute_result"
    },
    {
     "data": {
      "image/png": "[encoded data removed]",
      "text/plain": [
       "<Figure size 640x480 with 1 Axes>"
      ]
     },
     "metadata": {},
     "output_type": "display_data"
    }
   ],
   "source": [
    "ratings5s.groupby('userId').size().hist(bins=50, range=(0, 100))\n",
    "plt.xlabel('Number of 5-star ratings per user')\n",
    "plt.ylabel('Number of users')"
   ]
  },
  {
   "cell_type": "code",
   "execution_count": 8,
   "id": "ad717c58",
   "metadata": {},
   "outputs": [],
   "source": [
    "ratings5s[['userId', 'movie_id_reset']].to_csv('data/ratings5s.csv', index=False)\n",
    "movies.to_csv('data/movies_cleaned.csv', index=False)"
   ]
  },
  {
   "cell_type": "markdown",
   "id": "fbaf1cab",
   "metadata": {},
   "source": [
    "## Prediction"
   ]
  },
  {
   "cell_type": "code",
   "execution_count": 1,
   "id": "803e91d0",
   "metadata": {},
   "outputs": [],
   "source": [
    "from argparse import Namespace\n",
    "from model import SASRec\n",
    "import numpy as np\n",
    "import torch"
   ]
  },
  {
   "cell_type": "code",
   "execution_count": 2,
   "id": "f8030a57",
   "metadata": {},
   "outputs": [],
   "source": [
    "\n",
    "def load_args_from_file(config_content):\n",
    "    args = Namespace()\n",
    "    \n",
    "    # Define type conversions based on the original argparse types\n",
    "    type_map = {\n",
    "        'batch_size': int, 'lr': float, 'maxlen': int, 'hidden_units': int,\n",
    "        'num_blocks': int, 'num_epochs': int, 'num_heads': int, \n",
    "        'dropout_rate': float, 'l2_emb': float, 'inference_only': lambda s: s.lower() == 'true',\n",
    "        'norm_first': lambda s: s.lower() == 'true',\n",
    "        'dataset': str, 'train_dir': str, 'device': str, 'state_dict_path': str,\n",
    "        'usernum': int, 'itemnum': int\n",
    "    }\n",
    "\n",
    "    for line in config_content.strip().split('\\n'):\n",
    "        if not line or ',' not in line: continue\n",
    "        key, value_str = line.split(',', 1)\n",
    "        key = key.strip()\n",
    "        value_str = value_str.strip()\n",
    "        \n",
    "        # Apply type conversion\n",
    "        if key in type_map:\n",
    "            try:\n",
    "                if key == 'state_dict_path' and value_str.lower() == 'none':\n",
    "                    value = None\n",
    "                else:\n",
    "                    value = type_map[key](value_str)\n",
    "            except ValueError:\n",
    "                value = value_str # Default to string if conversion fails\n",
    "        else:\n",
    "            value = value_str\n",
    "            \n",
    "        setattr(args, key, value)\n",
    "    return args"
   ]
  },
  {
   "cell_type": "code",
   "execution_count": 3,
   "id": "8f206507",
   "metadata": {},
   "outputs": [
    {
     "data": {
      "text/plain": [
       "<All keys matched successfully>"
      ]
     },
     "execution_count": 3,
     "metadata": {},
     "output_type": "execute_result"
    }
   ],
   "source": [
    "args_path = '/Users/stefano/Documents/projects/Movie-Recommendation/results/ratings_5stars_default/args.txt'\n",
    "model_path = '/Users/stefano/Documents/projects/Movie-Recommendation/results/ratings_5stars_default/SASRec.epoch=30.lr=0.001.layer=2.head=1.hidden=50.maxlen=200.pth'\n",
    "\n",
    "with open(args_path, 'r') as f: \n",
    "    config_content = f.read()\n",
    "\n",
    "args = load_args_from_file(config_content)\n",
    "\n",
    "model = SASRec(args.usernum, args.itemnum, args)\n",
    "model.load_state_dict(torch.load(model_path, map_location=torch.device(args.device)))"
   ]
  },
  {
   "cell_type": "code",
   "execution_count": 4,
   "id": "e90ec80c",
   "metadata": {},
   "outputs": [],
   "source": [
    "seq = np.zeros([args.maxlen], dtype=np.int32)\n",
    "idx = args.maxlen - 1\n",
    "\n",
    "my_movies = [48780, 55247, 104374, 1246, 1704, 3424, 153548]\n",
    "\n",
    "for movie in reversed(my_movies):\n",
    "    seq[idx] = movie\n",
    "    idx -= 1\n"
   ]
  },
  {
   "cell_type": "code",
   "execution_count": 25,
   "id": "94376eb9",
   "metadata": {},
   "outputs": [
    {
     "name": "stdout",
     "output_type": "stream",
     "text": [
      "Top recommended movie IDs: [270698 287699 274053 202439 254726 223876 170487 195159 250010 201340]\n"
     ]
    }
   ],
   "source": [
    "model.eval()\n",
    "# input_seq = torch.tensor(seq, dtype=torch.long).unsqueeze(0).to(args.device)  # (1, maxlen)\n",
    "with torch.no_grad():\n",
    "    predictions = model.predict(seq.reshape(1, -1), torch.arange(args.itemnum))\n",
    "\n",
    "scores = predictions.squeeze(0).cpu().numpy()  # (itemnum,)\n",
    "top_items = np.argsort(-scores)[:10] \n",
    "print(\"Top recommended movie IDs:\", top_items)"
   ]
  },
  {
   "cell_type": "code",
   "execution_count": 20,
   "id": "249a8d20",
   "metadata": {},
   "outputs": [
    {
     "data": {
      "text/plain": [
       "(1, 200)"
      ]
     },
     "execution_count": 20,
     "metadata": {},
     "output_type": "execute_result"
    }
   ],
   "source": [
    "seq.reshape(1, -1).shape"
   ]
  },
  {
   "cell_type": "code",
   "execution_count": 26,
   "id": "01cc73d0",
   "metadata": {},
   "outputs": [
    {
     "data": {
      "text/plain": [
       "292241"
      ]
     },
     "execution_count": 26,
     "metadata": {},
     "output_type": "execute_result"
    }
   ],
   "source": [
    "args.itemnum"
   ]
  },
  {
   "cell_type": "code",
   "execution_count": null,
   "id": "fc1b8d01",
   "metadata": {},
   "outputs": [],
   "source": []
  }
 ],
 "metadata": {
  "kernelspec": {
   "display_name": ".venv (3.11.9)",
   "language": "python",
   "name": "python3"
  },
  "language_info": {
   "codemirror_mode": {
    "name": "ipython",
    "version": 3
   },
   "file_extension": ".py",
   "mimetype": "text/x-python",
   "name": "python",
   "nbconvert_exporter": "python",
   "pygments_lexer": "ipython3",
   "version": "3.11.9"
  }
 },
 "nbformat": 4,
 "nbformat_minor": 5
}
